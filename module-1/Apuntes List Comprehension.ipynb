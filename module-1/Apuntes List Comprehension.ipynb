{
 "cells": [
  {
   "cell_type": "code",
   "execution_count": 1,
   "id": "c459416a",
   "metadata": {},
   "outputs": [
    {
     "name": "stdout",
     "output_type": "stream",
     "text": [
      "[0, 1, 2, 3, 4, 5, 6, 7, 8, 9]\n"
     ]
    }
   ],
   "source": [
    "lst = []\n",
    " \n",
    "for i in range(10):\n",
    "    lst.append(i)\n",
    " \n",
    "print(lst)"
   ]
  },
  {
   "cell_type": "code",
   "execution_count": 2,
   "id": "aa2dde0b",
   "metadata": {},
   "outputs": [
    {
     "name": "stdout",
     "output_type": "stream",
     "text": [
      "[0, 1, 2, 3, 4, 5, 6, 7, 8, 9]\n"
     ]
    }
   ],
   "source": [
    "lst = [i for i in range(10)]\n",
    "print(lst)"
   ]
  },
  {
   "cell_type": "code",
   "execution_count": 3,
   "id": "127843cd",
   "metadata": {},
   "outputs": [
    {
     "name": "stdout",
     "output_type": "stream",
     "text": [
      "CPU times: user 8 µs, sys: 1 µs, total: 9 µs\n",
      "Wall time: 12.9 µs\n"
     ]
    }
   ],
   "source": [
    "%%time\n",
    "\n",
    "# for loop\n",
    "\n",
    "lst = []\n",
    "for i in range(10):\n",
    "    lst.append(i)"
   ]
  },
  {
   "cell_type": "code",
   "execution_count": 4,
   "id": "ac256aff",
   "metadata": {},
   "outputs": [
    {
     "name": "stdout",
     "output_type": "stream",
     "text": [
      "CPU times: user 8 µs, sys: 1 µs, total: 9 µs\n",
      "Wall time: 13.8 µs\n"
     ]
    }
   ],
   "source": [
    "%%time\n",
    "\n",
    "lst = [i for i in range(10)]"
   ]
  },
  {
   "cell_type": "code",
   "execution_count": 11,
   "id": "bb05cbcc",
   "metadata": {},
   "outputs": [
    {
     "name": "stdout",
     "output_type": "stream",
     "text": [
      "['name', 'Surname', 'pHone', 'EMAIL', 'CiTy']\n",
      "['name', 'surname', 'phone', 'email', 'city']\n"
     ]
    }
   ],
   "source": [
    "item_lst = ['name', 'Surname', 'pHone', 'EMAIL', 'CiTy']\n",
    "print(item_lst)\n",
    "item_lst = [i.lower() for i in item_lst]\n",
    "print(item_lst)"
   ]
  },
  {
   "cell_type": "code",
   "execution_count": 23,
   "id": "130c2fb2",
   "metadata": {},
   "outputs": [
    {
     "ename": "TypeError",
     "evalue": "lower() takes no arguments (1 given)",
     "output_type": "error",
     "traceback": [
      "\u001b[0;31m---------------------------------------------------------------------------\u001b[0m",
      "\u001b[0;31mTypeError\u001b[0m                                 Traceback (most recent call last)",
      "\u001b[0;32m/var/folders/45/rlv_cg792ys3fdwrjq5ywxjc0000gn/T/ipykernel_1091/3765411367.py\u001b[0m in \u001b[0;36m<module>\u001b[0;34m\u001b[0m\n\u001b[1;32m      1\u001b[0m \u001b[0mitem_lst\u001b[0m \u001b[0;34m=\u001b[0m \u001b[0;34m[\u001b[0m\u001b[0;34m'name'\u001b[0m\u001b[0;34m,\u001b[0m \u001b[0;34m'Surname'\u001b[0m\u001b[0;34m,\u001b[0m \u001b[0;34m'pHone'\u001b[0m\u001b[0;34m,\u001b[0m \u001b[0;34m'EMAIL'\u001b[0m\u001b[0;34m,\u001b[0m \u001b[0;34m'CiTy'\u001b[0m\u001b[0;34m]\u001b[0m\u001b[0;34m\u001b[0m\u001b[0;34m\u001b[0m\u001b[0m\n\u001b[1;32m      2\u001b[0m \u001b[0;32mfor\u001b[0m \u001b[0mi\u001b[0m \u001b[0;32min\u001b[0m \u001b[0mitem_lst\u001b[0m\u001b[0;34m:\u001b[0m\u001b[0;34m\u001b[0m\u001b[0;34m\u001b[0m\u001b[0m\n\u001b[0;32m----> 3\u001b[0;31m     \u001b[0mitem_lst\u001b[0m\u001b[0;34m=\u001b[0m \u001b[0mi\u001b[0m\u001b[0;34m.\u001b[0m\u001b[0mlower\u001b[0m\u001b[0;34m(\u001b[0m\u001b[0mi\u001b[0m\u001b[0;34m)\u001b[0m\u001b[0;34m\u001b[0m\u001b[0;34m\u001b[0m\u001b[0m\n\u001b[0m\u001b[1;32m      4\u001b[0m \u001b[0;34m\u001b[0m\u001b[0m\n\u001b[1;32m      5\u001b[0m \u001b[0mprint\u001b[0m\u001b[0;34m(\u001b[0m\u001b[0mitem_lst\u001b[0m\u001b[0;34m)\u001b[0m\u001b[0;34m\u001b[0m\u001b[0;34m\u001b[0m\u001b[0m\n",
      "\u001b[0;31mTypeError\u001b[0m: lower() takes no arguments (1 given)"
     ]
    }
   ],
   "source": [
    "item_lst = ['name', 'Surname', 'pHone', 'EMAIL', 'CiTy']\n",
    "for i in item_lst:\n",
    "    item_lst= i.lower(i)\n",
    "    \n",
    "print(item_lst)"
   ]
  },
  {
   "cell_type": "code",
   "execution_count": 10,
   "id": "61a7a56b",
   "metadata": {},
   "outputs": [
    {
     "name": "stdout",
     "output_type": "stream",
     "text": [
      "[5, 6, 7, 8, 9, 10, 11, 12, 13, 14, 15, 16, 17, 18, 19]\n"
     ]
    }
   ],
   "source": [
    "lst = [i for i in range(20) if i >= 5]\n",
    "print(lst)"
   ]
  },
  {
   "cell_type": "code",
   "execution_count": 25,
   "id": "a465e18b",
   "metadata": {},
   "outputs": [
    {
     "name": "stdout",
     "output_type": "stream",
     "text": [
      "[5, 6, 7, 8, 9, 10, 11, 12, 13, 14, 15, 16, 17, 18, 19]\n"
     ]
    }
   ],
   "source": [
    "lst = []\n",
    "for i in range(20):\n",
    "    if i >=5:\n",
    "        lst.append(i)\n",
    "\n",
    "print(lst)"
   ]
  },
  {
   "cell_type": "code",
   "execution_count": 34,
   "id": "320685f9",
   "metadata": {},
   "outputs": [
    {
     "name": "stdout",
     "output_type": "stream",
     "text": [
      "[6, 8, 10]\n"
     ]
    }
   ],
   "source": [
    "lst_lst = [[1,2,3,4,5], [6,7,8], [9,10]]\n",
    " \n",
    "lst = [y for x in lst_lst if len(x) < 4 for y in x if y % 2 == 0]\n",
    "print(lst)"
   ]
  },
  {
   "cell_type": "code",
   "execution_count": 39,
   "id": "39119cb3",
   "metadata": {},
   "outputs": [
    {
     "name": "stdout",
     "output_type": "stream",
     "text": [
      "[6, 8, 10]\n"
     ]
    }
   ],
   "source": [
    "lst_lst = [[1,2,3,4,5], [6,7,8], [9,10]]\n",
    "lst = []\n",
    "x = []\n",
    "for x in lst_lst:\n",
    "    if len(x) < 4:\n",
    "        for y in x:\n",
    "            if y%2 ==0:\n",
    "                lst.append(y)\n",
    "\n",
    "print(lst)\n",
    "        "
   ]
  },
  {
   "cell_type": "code",
   "execution_count": 43,
   "id": "06bde470",
   "metadata": {},
   "outputs": [
    {
     "name": "stdout",
     "output_type": "stream",
     "text": [
      "[1, 2, 3, 4, 5, 6, 7, 8, 9]\n"
     ]
    }
   ],
   "source": [
    "lst_lst = [[1,2,3], [4,5,6], [7,8,9]]\n",
    " \n",
    "lst = []\n",
    " \n",
    "for x in lst_lst:\n",
    "    for y in x:\n",
    "        lst.append(y)\n",
    " \n",
    "print(lst)"
   ]
  },
  {
   "cell_type": "code",
   "execution_count": 44,
   "id": "148c93fe",
   "metadata": {},
   "outputs": [
    {
     "name": "stdout",
     "output_type": "stream",
     "text": [
      "[1, 2, 3, 4, 5, 6, 7, 8, 9]\n"
     ]
    }
   ],
   "source": [
    "lst_lst = [[1,2,3], [4,5,6], [7,8,9]]\n",
    "lst= [y for x in lst_lst for y in x]\n",
    "print(lst)"
   ]
  },
  {
   "cell_type": "code",
   "execution_count": 45,
   "id": "5c231bc4",
   "metadata": {},
   "outputs": [
    {
     "name": "stdout",
     "output_type": "stream",
     "text": [
      "[[1, 4], [2, 5], [3, 6], [4, 8]]\n"
     ]
    }
   ],
   "source": [
    "transposed_matrix = []\n",
    "matrix = [[1, 2, 3, 4], [4, 5, 6, 8]]\n",
    "for i in range(len(matrix[0])):\n",
    "    transposed_row = []\n",
    "    for row in matrix:\n",
    "        transposed_row.append(row[i])\n",
    "    transposed_matrix.append(transposed_row)\n",
    "print(transposed_matrix)\n"
   ]
  },
  {
   "cell_type": "code",
   "execution_count": 49,
   "id": "3c00807c",
   "metadata": {},
   "outputs": [
    {
     "name": "stdout",
     "output_type": "stream",
     "text": [
      "[[1, 4], [2, 5], [3, 6], [4, 8]]\n"
     ]
    }
   ],
   "source": [
    "matrix = [[1, 2, 3, 4], [4, 5, 6, 8]]\n",
    "#Empezamos de abajo a arriba:\n",
    "transposed_matrix = [[row [i] for row in matrix] for i in range (len(matrix[0]))]\n",
    "print(transposed_matrix)"
   ]
  },
  {
   "cell_type": "code",
   "execution_count": 50,
   "id": "942b8734",
   "metadata": {},
   "outputs": [],
   "source": [
    "my_lst_lst = [[\"let's\", \"take\"], [\"a\", \"break\", \"of\"], {'amount': [5, 10, 15], 'units': ['seconds', 'minutes'] }]"
   ]
  },
  {
   "cell_type": "code",
   "execution_count": 51,
   "id": "19dff003",
   "metadata": {},
   "outputs": [
    {
     "name": "stdout",
     "output_type": "stream",
     "text": [
      "[\"LET'S\", 'TAKE', 'A', 'BREAK', 'OF']\n",
      "LET'S TAKE A BREAK OF: 10 seconds\n"
     ]
    }
   ],
   "source": [
    "my_message = list(map(lambda word: word.upper(), [word for lst in my_lst_lst[:2] for word in lst]))\n",
    "print(my_message)\n",
    "print(f\"{(' '.join(my_message))}: {my_lst_lst[2]['amount'][1]} {my_lst_lst[2]['units'][0]}\")"
   ]
  }
 ],
 "metadata": {
  "kernelspec": {
   "display_name": "Python [conda env:ironhack]",
   "language": "python",
   "name": "conda-env-ironhack-py"
  },
  "language_info": {
   "codemirror_mode": {
    "name": "ipython",
    "version": 3
   },
   "file_extension": ".py",
   "mimetype": "text/x-python",
   "name": "python",
   "nbconvert_exporter": "python",
   "pygments_lexer": "ipython3",
   "version": "3.7.11"
  }
 },
 "nbformat": 4,
 "nbformat_minor": 5
}
