{
 "cells": [
  {
   "cell_type": "code",
   "execution_count": 1,
   "id": "247f1ec2",
   "metadata": {},
   "outputs": [
    {
     "name": "stdout",
     "output_type": "stream",
     "text": [
      "Collecting package metadata (current_repodata.json): done\n",
      "Solving environment: done\n",
      "\n",
      "# All requested packages already installed.\n",
      "\n"
     ]
    }
   ],
   "source": [
    "#installation (https://numpy.org/install/)\n",
    "\n",
    "!conda install numpy\n",
    "#!conda install numpy=1.20.2"
   ]
  },
  {
   "cell_type": "code",
   "execution_count": 2,
   "id": "a73482d9",
   "metadata": {},
   "outputs": [
    {
     "name": "stdout",
     "output_type": "stream",
     "text": [
      "1.21.2\n"
     ]
    }
   ],
   "source": [
    "# import library and assign an alias\n",
    "\n",
    "import numpy as np\n",
    "print(np.__version__)"
   ]
  },
  {
   "cell_type": "markdown",
   "id": "693820c8",
   "metadata": {},
   "source": [
    "ARRAY OBJECT ATTRIBUTES"
   ]
  },
  {
   "cell_type": "code",
   "execution_count": 12,
   "id": "511b1c52",
   "metadata": {},
   "outputs": [
    {
     "name": "stdout",
     "output_type": "stream",
     "text": [
      "[[1 2 3]\n",
      " [4 5 6]]\n",
      "\n",
      "<class 'numpy.ndarray'>\n",
      "2\n",
      "(2, 3)\n",
      "6\n",
      "int64\n",
      "8\n"
     ]
    }
   ],
   "source": [
    "\n",
    "# ndarray object attributes (https://numpy.org/doc/stable/reference/arrays.ndarray.html#array-attributes)\n",
    "\n",
    "n_d_array = np.array([[1,2,3],[4,5,6]])\n",
    "\n",
    "#array es el método de numpy.\n",
    "\n",
    "print(n_d_array, end='\\n\\n')\n",
    "print(type(n_d_array))\n",
    "\n",
    "print(n_d_array.ndim)   # number of array dimensions\n",
    "print(n_d_array.shape)   # matrix's dimenssions size (i, j)\n",
    "print(n_d_array.size)   # data buffer (i.e.: number of elements in the array)\n",
    "\n",
    "print(n_d_array.dtype)   # https://numpy.org/doc/stable/reference/arrays.dtypes.html\n",
    "\n",
    "print(n_d_array.itemsize)   # length of one array element in bytes "
   ]
  },
  {
   "cell_type": "markdown",
   "id": "251b8ec2",
   "metadata": {},
   "source": [
    "ARRAY OBJECT METHODS"
   ]
  },
  {
   "cell_type": "code",
   "execution_count": 13,
   "id": "1bb0c5c0",
   "metadata": {},
   "outputs": [
    {
     "data": {
      "text/plain": [
       "array([[1, 2, 3],\n",
       "       [4, 5, 6]])"
      ]
     },
     "execution_count": 13,
     "metadata": {},
     "output_type": "execute_result"
    }
   ],
   "source": [
    "# Array conversion => .copy() --> Return a copy of the array.\n",
    "\n",
    "copy = n_d_array.copy()\n",
    "copy"
   ]
  },
  {
   "cell_type": "code",
   "execution_count": 14,
   "id": "35f92bd3",
   "metadata": {},
   "outputs": [
    {
     "data": {
      "text/plain": [
       "[[1, 2, 3], [4, 5, 6]]"
      ]
     },
     "execution_count": 14,
     "metadata": {},
     "output_type": "execute_result"
    }
   ],
   "source": [
    "# Array conversion => .tolist() --> Return the array as an a.ndim-levels deep nested list of Python scalars.\n",
    "\n",
    "py_list = n_d_array.tolist()\n",
    "py_list"
   ]
  },
  {
   "cell_type": "code",
   "execution_count": 6,
   "id": "68f705fa",
   "metadata": {},
   "outputs": [
    {
     "data": {
      "text/plain": [
       "array([[8, 8, 8],\n",
       "       [8, 8, 8]])"
      ]
     },
     "execution_count": 6,
     "metadata": {},
     "output_type": "execute_result"
    }
   ],
   "source": [
    "# Array conversion => .fill() --> Fill the array with a scalar value. Rellena con 8s.\n",
    "\n",
    "n_d_array.fill(8)\n",
    "n_d_array"
   ]
  },
  {
   "cell_type": "code",
   "execution_count": 15,
   "id": "cf0d6754",
   "metadata": {},
   "outputs": [
    {
     "data": {
      "text/plain": [
       "array([[1, 2],\n",
       "       [3, 4],\n",
       "       [5, 6]])"
      ]
     },
     "execution_count": 15,
     "metadata": {},
     "output_type": "execute_result"
    }
   ],
   "source": [
    "# Shape manipulation => .reshape() --> Returns an array containing the same data with a new shape. Cambia la geometría según le indiquemos, aqui, hemos puesto que saque 3 filas y 2 columnas.\n",
    "\n",
    "\n",
    "reshaped = n_d_array.reshape(3,2)\n",
    "reshaped"
   ]
  },
  {
   "cell_type": "code",
   "execution_count": 16,
   "id": "9906c405",
   "metadata": {},
   "outputs": [
    {
     "data": {
      "text/plain": [
       "array([[1, 3, 5],\n",
       "       [2, 4, 6]])"
      ]
     },
     "execution_count": 16,
     "metadata": {},
     "output_type": "execute_result"
    }
   ],
   "source": [
    "# Shape manipulation => .transpose() --> Returns a view of the array with axes transposed. Hace la traspuesta.\n",
    " \n",
    "transposed = reshaped.transpose()\n",
    "transposed"
   ]
  },
  {
   "cell_type": "code",
   "execution_count": 17,
   "id": "0575e53b",
   "metadata": {},
   "outputs": [
    {
     "data": {
      "text/plain": [
       "array([1, 2, 3, 4, 5, 6])"
      ]
     },
     "execution_count": 17,
     "metadata": {},
     "output_type": "execute_result"
    }
   ],
   "source": [
    "# Shape manipulation => .flatten() --> Return a copy of the array collapsed into one dimension.\n",
    "\n",
    "flattened = n_d_array.flatten()\n",
    "flattened"
   ]
  },
  {
   "cell_type": "code",
   "execution_count": 18,
   "id": "51c68448",
   "metadata": {},
   "outputs": [
    {
     "data": {
      "text/plain": [
       "6"
      ]
     },
     "execution_count": 18,
     "metadata": {},
     "output_type": "execute_result"
    }
   ],
   "source": [
    "# Calculation => .max() --> Return the maximum along a given axis.\n",
    "\n",
    "max_ = n_d_array.max()\n",
    "max_"
   ]
  },
  {
   "cell_type": "code",
   "execution_count": 19,
   "id": "c3fed9b4",
   "metadata": {},
   "outputs": [
    {
     "data": {
      "text/plain": [
       "5"
      ]
     },
     "execution_count": 19,
     "metadata": {},
     "output_type": "execute_result"
    }
   ],
   "source": [
    "# Calculation => .argmax() --> Returns the indices of the maximum values along an axis. Te dice la posición del máximo.\n",
    "\n",
    "argmax_ = n_d_array.argmax()\n",
    "argmax_"
   ]
  },
  {
   "cell_type": "code",
   "execution_count": 20,
   "id": "02bdddd0",
   "metadata": {},
   "outputs": [
    {
     "data": {
      "text/plain": [
       "21"
      ]
     },
     "execution_count": 20,
     "metadata": {},
     "output_type": "execute_result"
    }
   ],
   "source": [
    "# Calculation => .sum() --> Sum of array elements over a given axis.\n",
    "\n",
    "sum_ = n_d_array.sum()\n",
    "sum_"
   ]
  },
  {
   "cell_type": "markdown",
   "id": "c7fb8df4",
   "metadata": {},
   "source": [
    "Array creation routines"
   ]
  },
  {
   "cell_type": "code",
   "execution_count": 21,
   "id": "a615c47f",
   "metadata": {},
   "outputs": [
    {
     "data": {
      "text/plain": [
       "array([0, 1, 2, 3, 4, 5, 6, 7])"
      ]
     },
     "execution_count": 21,
     "metadata": {},
     "output_type": "execute_result"
    }
   ],
   "source": [
    "# numpy.arange() --> Return evenly spaced values within a given interval. Genera un array de los elementos que le indiquemos\n",
    "\n",
    "array_range = np.arange(8)\n",
    "array_range"
   ]
  },
  {
   "cell_type": "code",
   "execution_count": 22,
   "id": "9c26e4db",
   "metadata": {},
   "outputs": [
    {
     "data": {
      "text/plain": [
       "array([1., 1., 1., 1., 1., 1., 1., 1.])"
      ]
     },
     "execution_count": 22,
     "metadata": {},
     "output_type": "execute_result"
    }
   ],
   "source": [
    "# numpy.ones() --> Return a new array of given shape and type, filled with ones.\n",
    "\n",
    "ones_array = np.ones((8,))\n",
    "ones_array"
   ]
  },
  {
   "cell_type": "code",
   "execution_count": 24,
   "id": "d0eecd7c",
   "metadata": {},
   "outputs": [
    {
     "data": {
      "text/plain": [
       "array([[0., 0., 0., 0., 0.],\n",
       "       [0., 0., 0., 0., 0.],\n",
       "       [0., 0., 0., 0., 0.],\n",
       "       [0., 0., 0., 0., 0.],\n",
       "       [0., 0., 0., 0., 0.],\n",
       "       [0., 0., 0., 0., 0.],\n",
       "       [0., 0., 0., 0., 0.],\n",
       "       [0., 0., 0., 0., 0.]])"
      ]
     },
     "execution_count": 24,
     "metadata": {},
     "output_type": "execute_result"
    }
   ],
   "source": [
    "# numpy.zeros() --> Return a new array of given shape and type, filled with zeros. El de la derecha indica el número de dimensiones, en este caso dos dimensiones, 8x5.\n",
    "\n",
    "zeros_array = np.zeros((8,5))\n",
    "zeros_array"
   ]
  },
  {
   "cell_type": "markdown",
   "id": "b924804d",
   "metadata": {},
   "source": [
    "#Ver Indexing en Github"
   ]
  },
  {
   "cell_type": "code",
   "execution_count": 27,
   "id": "a06c519d",
   "metadata": {},
   "outputs": [
    {
     "data": {
      "text/plain": [
       "array([ 0,  1,  2,  3,  4,  5,  6,  7,  8,  9, 10, 11])"
      ]
     },
     "execution_count": 27,
     "metadata": {},
     "output_type": "execute_result"
    }
   ],
   "source": [
    "d1_array = np.arange(12)\n",
    "d1_array"
   ]
  },
  {
   "cell_type": "code",
   "execution_count": 28,
   "id": "9d75758a",
   "metadata": {},
   "outputs": [
    {
     "data": {
      "text/plain": [
       "array([[ 0,  1,  2,  3],\n",
       "       [ 4,  5,  6,  7],\n",
       "       [ 8,  9, 10, 11]])"
      ]
     },
     "execution_count": 28,
     "metadata": {},
     "output_type": "execute_result"
    }
   ],
   "source": [
    "d2_array = d1_array.reshape((3,4))\n",
    "d2_array"
   ]
  },
  {
   "cell_type": "code",
   "execution_count": 29,
   "id": "b8c5fdd6",
   "metadata": {},
   "outputs": [
    {
     "data": {
      "text/plain": [
       "array([[[ 0,  1],\n",
       "        [ 2,  3],\n",
       "        [ 4,  5]],\n",
       "\n",
       "       [[ 6,  7],\n",
       "        [ 8,  9],\n",
       "        [10, 11]]])"
      ]
     },
     "execution_count": 29,
     "metadata": {},
     "output_type": "execute_result"
    }
   ],
   "source": [
    "d3_array = d2_array.reshape((2,3,2))\n",
    "d3_array"
   ]
  },
  {
   "cell_type": "code",
   "execution_count": 30,
   "id": "4b876c6a",
   "metadata": {},
   "outputs": [
    {
     "data": {
      "text/plain": [
       "array([[[0., 0., 0.],\n",
       "        [0., 0., 0.],\n",
       "        [0., 0., 0.]],\n",
       "\n",
       "       [[0., 0., 0.],\n",
       "        [0., 0., 0.],\n",
       "        [0., 0., 0.]],\n",
       "\n",
       "       [[0., 0., 0.],\n",
       "        [0., 0., 0.],\n",
       "        [0., 0., 0.]]])"
      ]
     },
     "execution_count": 30,
     "metadata": {},
     "output_type": "execute_result"
    }
   ],
   "source": [
    "d3_array = np.zeros((3,3,3)) # + 10\n",
    "d3_array"
   ]
  },
  {
   "cell_type": "code",
   "execution_count": 31,
   "id": "141f1ea4",
   "metadata": {},
   "outputs": [
    {
     "data": {
      "text/plain": [
       "array([[[[[ 0],\n",
       "          [ 1],\n",
       "          [ 2],\n",
       "          [ 3],\n",
       "          [ 4],\n",
       "          [ 5]]],\n",
       "\n",
       "\n",
       "        [[[ 6],\n",
       "          [ 7],\n",
       "          [ 8],\n",
       "          [ 9],\n",
       "          [10],\n",
       "          [11]]]]])"
      ]
     },
     "execution_count": 31,
     "metadata": {},
     "output_type": "execute_result"
    }
   ],
   "source": [
    "dn_array = np.arange(12).reshape((1, 2, 1, 6, 1))\n",
    "dn_array"
   ]
  },
  {
   "cell_type": "code",
   "execution_count": 32,
   "id": "88bdd8ad",
   "metadata": {},
   "outputs": [
    {
     "data": {
      "text/plain": [
       "6"
      ]
     },
     "execution_count": 32,
     "metadata": {},
     "output_type": "execute_result"
    }
   ],
   "source": [
    "dn_array[0,1,0,0,0]"
   ]
  },
  {
   "cell_type": "markdown",
   "id": "e6de9b32",
   "metadata": {},
   "source": [
    "Slicing. Ver apuntes Github."
   ]
  },
  {
   "cell_type": "code",
   "execution_count": 33,
   "id": "ce03ef5b",
   "metadata": {},
   "outputs": [
    {
     "ename": "NameError",
     "evalue": "name 'slicing_array_3_3' is not defined",
     "output_type": "error",
     "traceback": [
      "\u001b[0;31m---------------------------------------------------------------------------\u001b[0m",
      "\u001b[0;31mNameError\u001b[0m                                 Traceback (most recent call last)",
      "\u001b[0;32m/var/folders/45/rlv_cg792ys3fdwrjq5ywxjc0000gn/T/ipykernel_1625/809812783.py\u001b[0m in \u001b[0;36m<module>\u001b[0;34m\u001b[0m\n\u001b[1;32m      1\u001b[0m \u001b[0;31m# Slicing (3,3)\u001b[0m\u001b[0;34m\u001b[0m\u001b[0;34m\u001b[0m\u001b[0;34m\u001b[0m\u001b[0m\n\u001b[1;32m      2\u001b[0m \u001b[0;34m\u001b[0m\u001b[0m\n\u001b[0;32m----> 3\u001b[0;31m \u001b[0mslicing_array_3_3\u001b[0m\u001b[0;34m\u001b[0m\u001b[0;34m\u001b[0m\u001b[0m\n\u001b[0m",
      "\u001b[0;31mNameError\u001b[0m: name 'slicing_array_3_3' is not defined"
     ]
    }
   ],
   "source": [
    "# Slicing (3,3)\n",
    "\n",
    "slicing_array_3_3"
   ]
  },
  {
   "cell_type": "code",
   "execution_count": 34,
   "id": "4b48aec7",
   "metadata": {},
   "outputs": [
    {
     "ename": "NameError",
     "evalue": "name 'slicing_array_6_6' is not defined",
     "output_type": "error",
     "traceback": [
      "\u001b[0;31m---------------------------------------------------------------------------\u001b[0m",
      "\u001b[0;31mNameError\u001b[0m                                 Traceback (most recent call last)",
      "\u001b[0;32m/var/folders/45/rlv_cg792ys3fdwrjq5ywxjc0000gn/T/ipykernel_1625/2911031765.py\u001b[0m in \u001b[0;36m<module>\u001b[0;34m\u001b[0m\n\u001b[1;32m      1\u001b[0m \u001b[0;31m# Slicing deep_dive (6,6)\u001b[0m\u001b[0;34m\u001b[0m\u001b[0;34m\u001b[0m\u001b[0;34m\u001b[0m\u001b[0m\n\u001b[1;32m      2\u001b[0m \u001b[0;34m\u001b[0m\u001b[0m\n\u001b[0;32m----> 3\u001b[0;31m \u001b[0mslicing_array_6_6\u001b[0m\u001b[0;34m\u001b[0m\u001b[0;34m\u001b[0m\u001b[0m\n\u001b[0m",
      "\u001b[0;31mNameError\u001b[0m: name 'slicing_array_6_6' is not defined"
     ]
    }
   ],
   "source": [
    "# Slicing deep_dive (6,6)\n",
    "\n",
    "slicing_array_6_6"
   ]
  },
  {
   "cell_type": "code",
   "execution_count": null,
   "id": "36515ef3",
   "metadata": {},
   "outputs": [],
   "source": []
  }
 ],
 "metadata": {
  "kernelspec": {
   "display_name": "Python [conda env:ironhack]",
   "language": "python",
   "name": "conda-env-ironhack-py"
  },
  "language_info": {
   "codemirror_mode": {
    "name": "ipython",
    "version": 3
   },
   "file_extension": ".py",
   "mimetype": "text/x-python",
   "name": "python",
   "nbconvert_exporter": "python",
   "pygments_lexer": "ipython3",
   "version": "3.7.11"
  }
 },
 "nbformat": 4,
 "nbformat_minor": 5
}
